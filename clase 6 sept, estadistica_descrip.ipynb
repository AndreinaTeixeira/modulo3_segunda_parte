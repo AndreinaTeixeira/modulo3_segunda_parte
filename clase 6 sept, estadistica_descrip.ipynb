{
 "cells": [
  {
   "cell_type": "code",
   "execution_count": 50,
   "id": "c9597b98",
   "metadata": {},
   "outputs": [],
   "source": [
    "import matplotlib.pyplot as pltt #intentar para el pair anterior\n",
    "import seaborn as sns\n",
    "import pandas as pd\n",
    "import numpy as np\n",
    "import scipy.stats as stats\n",
    "from scipy.stats import shapiro, kstest\n",
    "pd.set_option('display.max_columns', None)\n",
    "import warnings\n",
    "warnings.filterwarnings(\"ignore\")"
   ]
  },
  {
   "cell_type": "markdown",
   "id": "dc22e8c6",
   "metadata": {},
   "source": [
    "Partiendo del conjuntos de datos contestad a las siguientes preguntas:\n",
    "\n",
    "La variable price representa el precio de los productos. Calcula tanto la media como la mediana de los precios y explica la diferencia entre ambas medidas. Proporciona ejemplos de situaciones en las que la mediana podría ser preferible sobre la media.\n",
    "\n",
    "Crea una tabla de correlación que muestre cómo se relacionan las variables price, retail_price, units_sold, rating_sold, y rating_count. Interpreta los resultados y discute si hay alguna correlación significativa entre estas variables.\n",
    "\n",
    "Utiliza una tabla de contingencia para analizar la relación entre las variables categóricas uses_ad_boosts y badge_product_quality. ¿Cómo afecta la calidad del producto al uso de anuncios promocionales? Proporciona interpretaciones basadas en la tabla de contingencia.\n",
    "\n",
    "Crea una tabla de contingencia que examine la relación entre las variables categóricas badge_local_product y badge_fast_shipping. ¿Hay alguna tendencia en la que los productos locales estén más asociados con envíos rápidos? Explícalo.\n",
    "\n",
    "Calcula la media y la mediana de la variable mean_product_prices. ¿Cómo se comparan estas medidas? ¿Qué puedes inferir sobre la distribución de los precios promedio de los productos?\n",
    "\n",
    "Realiza un análisis de correlación entre total_units_sold y mean_product_ratings_count. ¿Existe una relación entre la cantidad total de unidades vendidas y la calificación promedio de los productos? Explica los resultados.\n",
    "\n",
    "Crea una tabla de contingencia que examine la relación entre las variables categóricas badge_local_product y seller_reputation. ¿Cómo se relacionan las calificaciones de los empleados con la reputación del vendedor? Proporciona interpretaciones basadas en la tabla de contingencia.\n",
    "\n",
    "Calcula la media y la mediana de la variable discount_percentage. ¿Qué puedes decir sobre los descuentos promedio en los productos? ¿Hay valores atípicos en esta variable?\n",
    "\n",
    "Utiliza una tabla de contingencia para analizar cómo se relacionan las variables categóricas badge_fast_shipping y seller_reputation. ¿Qué puedes concluir sobre la distribución de las calificaciones altas?"
   ]
  },
  {
   "cell_type": "code",
   "execution_count": 51,
   "id": "e09374d4",
   "metadata": {},
   "outputs": [],
   "source": [
    "df = pd.read_csv(\"merchant_fill_nonulls.csv\")"
   ]
  },
  {
   "cell_type": "code",
   "execution_count": 52,
   "id": "2d79ff02",
   "metadata": {},
   "outputs": [
    {
     "data": {
      "text/html": [
       "<div>\n",
       "<style scoped>\n",
       "    .dataframe tbody tr th:only-of-type {\n",
       "        vertical-align: middle;\n",
       "    }\n",
       "\n",
       "    .dataframe tbody tr th {\n",
       "        vertical-align: top;\n",
       "    }\n",
       "\n",
       "    .dataframe thead th {\n",
       "        text-align: right;\n",
       "    }\n",
       "</style>\n",
       "<table border=\"1\" class=\"dataframe\">\n",
       "  <thead>\n",
       "    <tr style=\"text-align: right;\">\n",
       "      <th></th>\n",
       "      <th>Unnamed: 0</th>\n",
       "      <th>title</th>\n",
       "      <th>price</th>\n",
       "      <th>retail_price</th>\n",
       "      <th>units_sold</th>\n",
       "      <th>uses_ad_boosts</th>\n",
       "      <th>rating_sold</th>\n",
       "      <th>rating_count</th>\n",
       "      <th>badge_local_product</th>\n",
       "      <th>badge_product_quality</th>\n",
       "      <th>badge_fast_shipping</th>\n",
       "      <th>tags</th>\n",
       "      <th>product_color</th>\n",
       "      <th>product_variation_size_id</th>\n",
       "      <th>shipping_option_name</th>\n",
       "      <th>shipping_option_price</th>\n",
       "      <th>shipping_is_express</th>\n",
       "      <th>countries_shipped_to</th>\n",
       "      <th>inventory_total</th>\n",
       "      <th>origin_country</th>\n",
       "      <th>merchant_name</th>\n",
       "      <th>merchant_info_subtitle</th>\n",
       "      <th>merchant_rating_count</th>\n",
       "      <th>merchant_id</th>\n",
       "      <th>product_url</th>\n",
       "      <th>product_id</th>\n",
       "      <th>listed_products</th>\n",
       "      <th>total_units_sold</th>\n",
       "      <th>mean_units_sold_per_product</th>\n",
       "      <th>rating_employee</th>\n",
       "      <th>merchant_ratings_count</th>\n",
       "      <th>mean_product_prices</th>\n",
       "      <th>mean_retail_prices</th>\n",
       "      <th>mean_product_ratings_count</th>\n",
       "      <th>discount_percentage</th>\n",
       "      <th>seller_reputation</th>\n",
       "      <th>rating_four_count</th>\n",
       "      <th>rating_three_count</th>\n",
       "      <th>rating_two_count</th>\n",
       "      <th>rating_one_count</th>\n",
       "      <th>rating_five_count</th>\n",
       "    </tr>\n",
       "  </thead>\n",
       "  <tbody>\n",
       "    <tr>\n",
       "      <th>0</th>\n",
       "      <td>0</td>\n",
       "      <td>2020 Summer Vintage Flamingo Print  Pajamas Se...</td>\n",
       "      <td>16.00</td>\n",
       "      <td>14</td>\n",
       "      <td>100</td>\n",
       "      <td>No</td>\n",
       "      <td>3.76</td>\n",
       "      <td>54</td>\n",
       "      <td>No</td>\n",
       "      <td>Buena</td>\n",
       "      <td>No</td>\n",
       "      <td>Summer,Fashion,womenunderwearsuit,printedpajam...</td>\n",
       "      <td>white</td>\n",
       "      <td>M</td>\n",
       "      <td>Livraison standard</td>\n",
       "      <td>4</td>\n",
       "      <td>No</td>\n",
       "      <td>34</td>\n",
       "      <td>50</td>\n",
       "      <td>CN</td>\n",
       "      <td>zgrdejia</td>\n",
       "      <td>Unknown</td>\n",
       "      <td>568</td>\n",
       "      <td>595097d6a26f6e070cb878d1</td>\n",
       "      <td>https://www.wish.com/c/5e9ae51d43d6a96e303acdb0</td>\n",
       "      <td>5e9ae51d43d6a96e303acdb0</td>\n",
       "      <td>1</td>\n",
       "      <td>100</td>\n",
       "      <td>100.0</td>\n",
       "      <td>4.129</td>\n",
       "      <td>568.0</td>\n",
       "      <td>16.00</td>\n",
       "      <td>14.00</td>\n",
       "      <td>54.0</td>\n",
       "      <td>14.29</td>\n",
       "      <td>Buena</td>\n",
       "      <td>8.0</td>\n",
       "      <td>10.0</td>\n",
       "      <td>1.0</td>\n",
       "      <td>9.0</td>\n",
       "      <td>26.0</td>\n",
       "    </tr>\n",
       "    <tr>\n",
       "      <th>1</th>\n",
       "      <td>1</td>\n",
       "      <td>SSHOUSE Summer Casual Sleeveless Soirée Party ...</td>\n",
       "      <td>8.00</td>\n",
       "      <td>22</td>\n",
       "      <td>20000</td>\n",
       "      <td>Si</td>\n",
       "      <td>3.45</td>\n",
       "      <td>6135</td>\n",
       "      <td>No</td>\n",
       "      <td>Buena</td>\n",
       "      <td>No</td>\n",
       "      <td>Mini,womens dresses,Summer,Patchwork,fashion d...</td>\n",
       "      <td>green</td>\n",
       "      <td>XS</td>\n",
       "      <td>Livraison standard</td>\n",
       "      <td>2</td>\n",
       "      <td>No</td>\n",
       "      <td>41</td>\n",
       "      <td>50</td>\n",
       "      <td>CN</td>\n",
       "      <td>sarahouse</td>\n",
       "      <td>83 % avis positifs</td>\n",
       "      <td>17752</td>\n",
       "      <td>56458aa03a698c35c9050988</td>\n",
       "      <td>https://www.wish.com/c/58940d436a0d3d5da4e95a38</td>\n",
       "      <td>58940d436a0d3d5da4e95a38</td>\n",
       "      <td>6</td>\n",
       "      <td>21400</td>\n",
       "      <td>3567.0</td>\n",
       "      <td>3.900</td>\n",
       "      <td>17752.0</td>\n",
       "      <td>5.68</td>\n",
       "      <td>10.33</td>\n",
       "      <td>1057.0</td>\n",
       "      <td>-63.64</td>\n",
       "      <td>Regular</td>\n",
       "      <td>1027.0</td>\n",
       "      <td>1118.0</td>\n",
       "      <td>644.0</td>\n",
       "      <td>1077.0</td>\n",
       "      <td>2269.0</td>\n",
       "    </tr>\n",
       "    <tr>\n",
       "      <th>2</th>\n",
       "      <td>2</td>\n",
       "      <td>Nouvelle mode d'été femmes robe décontractée c...</td>\n",
       "      <td>4.90</td>\n",
       "      <td>8</td>\n",
       "      <td>1000</td>\n",
       "      <td>Si</td>\n",
       "      <td>3.83</td>\n",
       "      <td>99</td>\n",
       "      <td>No</td>\n",
       "      <td>Buena</td>\n",
       "      <td>No</td>\n",
       "      <td>Summer,Fashion,Necks,Beach,Dress,Loose,beach d...</td>\n",
       "      <td>white</td>\n",
       "      <td>XXS</td>\n",
       "      <td>Livraison standard</td>\n",
       "      <td>1</td>\n",
       "      <td>No</td>\n",
       "      <td>41</td>\n",
       "      <td>50</td>\n",
       "      <td>CN</td>\n",
       "      <td>sarahouse</td>\n",
       "      <td>83 % avis positifs</td>\n",
       "      <td>17752</td>\n",
       "      <td>56458aa03a698c35c9050988</td>\n",
       "      <td>https://www.wish.com/c/5df2576d68963c1660471f9a</td>\n",
       "      <td>5df2576d68963c1660471f9a</td>\n",
       "      <td>6</td>\n",
       "      <td>21400</td>\n",
       "      <td>3567.0</td>\n",
       "      <td>3.900</td>\n",
       "      <td>17752.0</td>\n",
       "      <td>5.68</td>\n",
       "      <td>10.33</td>\n",
       "      <td>1057.0</td>\n",
       "      <td>-38.75</td>\n",
       "      <td>Regular</td>\n",
       "      <td>18.0</td>\n",
       "      <td>23.0</td>\n",
       "      <td>8.0</td>\n",
       "      <td>7.0</td>\n",
       "      <td>43.0</td>\n",
       "    </tr>\n",
       "    <tr>\n",
       "      <th>3</th>\n",
       "      <td>3</td>\n",
       "      <td>Summer Women s Fashion Lace Up Tie Pants Plus...</td>\n",
       "      <td>4.93</td>\n",
       "      <td>6</td>\n",
       "      <td>100</td>\n",
       "      <td>No</td>\n",
       "      <td>3.77</td>\n",
       "      <td>47</td>\n",
       "      <td>No</td>\n",
       "      <td>Buena</td>\n",
       "      <td>No</td>\n",
       "      <td>Summer,Shorts,Lace,pants,Waist,Short pants,Yel...</td>\n",
       "      <td>red</td>\n",
       "      <td>S</td>\n",
       "      <td>Standard Shipping</td>\n",
       "      <td>1</td>\n",
       "      <td>No</td>\n",
       "      <td>41</td>\n",
       "      <td>50</td>\n",
       "      <td>CN</td>\n",
       "      <td>sarahouse</td>\n",
       "      <td>83% Positive Feedback</td>\n",
       "      <td>17752</td>\n",
       "      <td>56458aa03a698c35c9050988</td>\n",
       "      <td>https://www.wish.com/c/5d58daef3159a812b05933d2</td>\n",
       "      <td>5d58daef3159a812b05933d2</td>\n",
       "      <td>6</td>\n",
       "      <td>21400</td>\n",
       "      <td>3567.0</td>\n",
       "      <td>3.900</td>\n",
       "      <td>17752.0</td>\n",
       "      <td>5.68</td>\n",
       "      <td>10.33</td>\n",
       "      <td>1057.0</td>\n",
       "      <td>-17.83</td>\n",
       "      <td>Regular</td>\n",
       "      <td>7.0</td>\n",
       "      <td>8.0</td>\n",
       "      <td>5.0</td>\n",
       "      <td>5.0</td>\n",
       "      <td>22.0</td>\n",
       "    </tr>\n",
       "    <tr>\n",
       "      <th>4</th>\n",
       "      <td>4</td>\n",
       "      <td>Nouvelle mode d'été femmes robe décontractée c...</td>\n",
       "      <td>5.65</td>\n",
       "      <td>10</td>\n",
       "      <td>100</td>\n",
       "      <td>Si</td>\n",
       "      <td>2.86</td>\n",
       "      <td>7</td>\n",
       "      <td>No</td>\n",
       "      <td>Buena</td>\n",
       "      <td>No</td>\n",
       "      <td>Summer,Fashion,Necks,Skirts,Dress,Loose,Women'...</td>\n",
       "      <td>black</td>\n",
       "      <td>XXS</td>\n",
       "      <td>Livraison standard</td>\n",
       "      <td>1</td>\n",
       "      <td>No</td>\n",
       "      <td>41</td>\n",
       "      <td>50</td>\n",
       "      <td>CN</td>\n",
       "      <td>sarahouse</td>\n",
       "      <td>83 % avis positifs</td>\n",
       "      <td>17752</td>\n",
       "      <td>56458aa03a698c35c9050988</td>\n",
       "      <td>https://www.wish.com/c/5e9fa7de39682a0043ab7898</td>\n",
       "      <td>5e9fa7de39682a0043ab7898</td>\n",
       "      <td>6</td>\n",
       "      <td>21400</td>\n",
       "      <td>3567.0</td>\n",
       "      <td>3.900</td>\n",
       "      <td>17752.0</td>\n",
       "      <td>5.68</td>\n",
       "      <td>10.33</td>\n",
       "      <td>1057.0</td>\n",
       "      <td>-43.50</td>\n",
       "      <td>Regular</td>\n",
       "      <td>1.0</td>\n",
       "      <td>2.0</td>\n",
       "      <td>2.0</td>\n",
       "      <td>1.0</td>\n",
       "      <td>1.0</td>\n",
       "    </tr>\n",
       "  </tbody>\n",
       "</table>\n",
       "</div>"
      ],
      "text/plain": [
       "   Unnamed: 0                                              title  price  \\\n",
       "0           0  2020 Summer Vintage Flamingo Print  Pajamas Se...  16.00   \n",
       "1           1  SSHOUSE Summer Casual Sleeveless Soirée Party ...   8.00   \n",
       "2           2  Nouvelle mode d'été femmes robe décontractée c...   4.90   \n",
       "3           3   Summer Women s Fashion Lace Up Tie Pants Plus...   4.93   \n",
       "4           4  Nouvelle mode d'été femmes robe décontractée c...   5.65   \n",
       "\n",
       "   retail_price  units_sold uses_ad_boosts  rating_sold  rating_count  \\\n",
       "0            14         100             No         3.76            54   \n",
       "1            22       20000             Si         3.45          6135   \n",
       "2             8        1000             Si         3.83            99   \n",
       "3             6         100             No         3.77            47   \n",
       "4            10         100             Si         2.86             7   \n",
       "\n",
       "  badge_local_product badge_product_quality badge_fast_shipping  \\\n",
       "0                  No                 Buena                  No   \n",
       "1                  No                 Buena                  No   \n",
       "2                  No                 Buena                  No   \n",
       "3                  No                 Buena                  No   \n",
       "4                  No                 Buena                  No   \n",
       "\n",
       "                                                tags product_color  \\\n",
       "0  Summer,Fashion,womenunderwearsuit,printedpajam...         white   \n",
       "1  Mini,womens dresses,Summer,Patchwork,fashion d...         green   \n",
       "2  Summer,Fashion,Necks,Beach,Dress,Loose,beach d...         white   \n",
       "3  Summer,Shorts,Lace,pants,Waist,Short pants,Yel...           red   \n",
       "4  Summer,Fashion,Necks,Skirts,Dress,Loose,Women'...         black   \n",
       "\n",
       "  product_variation_size_id shipping_option_name  shipping_option_price  \\\n",
       "0                         M   Livraison standard                      4   \n",
       "1                        XS   Livraison standard                      2   \n",
       "2                       XXS   Livraison standard                      1   \n",
       "3                         S    Standard Shipping                      1   \n",
       "4                       XXS   Livraison standard                      1   \n",
       "\n",
       "  shipping_is_express  countries_shipped_to  inventory_total origin_country  \\\n",
       "0                  No                    34               50             CN   \n",
       "1                  No                    41               50             CN   \n",
       "2                  No                    41               50             CN   \n",
       "3                  No                    41               50             CN   \n",
       "4                  No                    41               50             CN   \n",
       "\n",
       "  merchant_name  merchant_info_subtitle  merchant_rating_count  \\\n",
       "0      zgrdejia                 Unknown                    568   \n",
       "1     sarahouse     83 % avis positifs                   17752   \n",
       "2     sarahouse     83 % avis positifs                   17752   \n",
       "3     sarahouse  83% Positive Feedback                   17752   \n",
       "4     sarahouse     83 % avis positifs                   17752   \n",
       "\n",
       "                merchant_id                                      product_url  \\\n",
       "0  595097d6a26f6e070cb878d1  https://www.wish.com/c/5e9ae51d43d6a96e303acdb0   \n",
       "1  56458aa03a698c35c9050988  https://www.wish.com/c/58940d436a0d3d5da4e95a38   \n",
       "2  56458aa03a698c35c9050988  https://www.wish.com/c/5df2576d68963c1660471f9a   \n",
       "3  56458aa03a698c35c9050988  https://www.wish.com/c/5d58daef3159a812b05933d2   \n",
       "4  56458aa03a698c35c9050988  https://www.wish.com/c/5e9fa7de39682a0043ab7898   \n",
       "\n",
       "                 product_id  listed_products  total_units_sold  \\\n",
       "0  5e9ae51d43d6a96e303acdb0                1               100   \n",
       "1  58940d436a0d3d5da4e95a38                6             21400   \n",
       "2  5df2576d68963c1660471f9a                6             21400   \n",
       "3  5d58daef3159a812b05933d2                6             21400   \n",
       "4  5e9fa7de39682a0043ab7898                6             21400   \n",
       "\n",
       "   mean_units_sold_per_product  rating_employee  merchant_ratings_count  \\\n",
       "0                        100.0            4.129                   568.0   \n",
       "1                       3567.0            3.900                 17752.0   \n",
       "2                       3567.0            3.900                 17752.0   \n",
       "3                       3567.0            3.900                 17752.0   \n",
       "4                       3567.0            3.900                 17752.0   \n",
       "\n",
       "   mean_product_prices  mean_retail_prices  mean_product_ratings_count  \\\n",
       "0                16.00               14.00                        54.0   \n",
       "1                 5.68               10.33                      1057.0   \n",
       "2                 5.68               10.33                      1057.0   \n",
       "3                 5.68               10.33                      1057.0   \n",
       "4                 5.68               10.33                      1057.0   \n",
       "\n",
       "   discount_percentage seller_reputation  rating_four_count  \\\n",
       "0                14.29             Buena                8.0   \n",
       "1               -63.64           Regular             1027.0   \n",
       "2               -38.75           Regular               18.0   \n",
       "3               -17.83           Regular                7.0   \n",
       "4               -43.50           Regular                1.0   \n",
       "\n",
       "   rating_three_count  rating_two_count  rating_one_count  rating_five_count  \n",
       "0                10.0               1.0               9.0               26.0  \n",
       "1              1118.0             644.0            1077.0             2269.0  \n",
       "2                23.0               8.0               7.0               43.0  \n",
       "3                 8.0               5.0               5.0               22.0  \n",
       "4                 2.0               2.0               1.0                1.0  "
      ]
     },
     "execution_count": 52,
     "metadata": {},
     "output_type": "execute_result"
    }
   ],
   "source": [
    "df.head()"
   ]
  },
  {
   "cell_type": "markdown",
   "id": "2a92861a",
   "metadata": {},
   "source": [
    "EJERCICIO 1"
   ]
  },
  {
   "cell_type": "markdown",
   "id": "3a95ccdb",
   "metadata": {},
   "source": [
    "media"
   ]
  },
  {
   "cell_type": "code",
   "execution_count": 53,
   "id": "d330c78b",
   "metadata": {},
   "outputs": [
    {
     "data": {
      "text/plain": [
       "8.33"
      ]
     },
     "execution_count": 53,
     "metadata": {},
     "output_type": "execute_result"
    }
   ],
   "source": [
    "media_price = round(df['price'].mean(),2)\n",
    "media_price"
   ]
  },
  {
   "cell_type": "markdown",
   "id": "bd3d71cb",
   "metadata": {},
   "source": [
    "mediana"
   ]
  },
  {
   "cell_type": "code",
   "execution_count": 54,
   "id": "e069da7f",
   "metadata": {},
   "outputs": [
    {
     "data": {
      "text/plain": [
       "8.0"
      ]
     },
     "execution_count": 54,
     "metadata": {},
     "output_type": "execute_result"
    }
   ],
   "source": [
    "mediana_price = round(df['price'].median(),2)\n",
    "mediana_price"
   ]
  },
  {
   "cell_type": "markdown",
   "id": "2d2ac1bd",
   "metadata": {},
   "source": [
    "En este caso, la media y la mediana son similares. La media se ve influenciada por los valores atípicos por lo que a veces no cinviene usarla."
   ]
  },
  {
   "cell_type": "markdown",
   "id": "8064e6ec",
   "metadata": {},
   "source": [
    "EJERCICIO 2"
   ]
  },
  {
   "cell_type": "markdown",
   "id": "ece3589c",
   "metadata": {},
   "source": [
    "Crea una tabla de correlación que muestre cómo se relacionan las variables price, retail_price, units_sold, rating_sold, y rating_count. Interpreta los resultados y discute si hay alguna correlación significativa entre estas variables."
   ]
  },
  {
   "cell_type": "code",
   "execution_count": 55,
   "id": "9b196150",
   "metadata": {},
   "outputs": [
    {
     "data": {
      "text/plain": [
       "[('Unnamed: 0', 'price'),\n",
       " ('Unnamed: 0', 'retail_price'),\n",
       " ('Unnamed: 0', 'units_sold'),\n",
       " ('Unnamed: 0', 'rating_sold'),\n",
       " ('Unnamed: 0', 'rating_count'),\n",
       " ('Unnamed: 0', 'shipping_option_price'),\n",
       " ('Unnamed: 0', 'countries_shipped_to'),\n",
       " ('Unnamed: 0', 'inventory_total'),\n",
       " ('Unnamed: 0', 'merchant_rating_count'),\n",
       " ('Unnamed: 0', 'listed_products'),\n",
       " ('Unnamed: 0', 'total_units_sold'),\n",
       " ('Unnamed: 0', 'mean_units_sold_per_product'),\n",
       " ('Unnamed: 0', 'rating_employee'),\n",
       " ('Unnamed: 0', 'merchant_ratings_count'),\n",
       " ('Unnamed: 0', 'mean_product_prices'),\n",
       " ('Unnamed: 0', 'mean_retail_prices'),\n",
       " ('Unnamed: 0', 'mean_product_ratings_count'),\n",
       " ('Unnamed: 0', 'discount_percentage'),\n",
       " ('Unnamed: 0', 'rating_four_count'),\n",
       " ('Unnamed: 0', 'rating_three_count'),\n",
       " ('Unnamed: 0', 'rating_two_count'),\n",
       " ('Unnamed: 0', 'rating_one_count'),\n",
       " ('Unnamed: 0', 'rating_five_count'),\n",
       " ('price', 'retail_price'),\n",
       " ('price', 'units_sold'),\n",
       " ('price', 'rating_sold'),\n",
       " ('price', 'rating_count'),\n",
       " ('price', 'shipping_option_price'),\n",
       " ('price', 'countries_shipped_to'),\n",
       " ('price', 'inventory_total'),\n",
       " ('price', 'merchant_rating_count'),\n",
       " ('price', 'listed_products'),\n",
       " ('price', 'total_units_sold'),\n",
       " ('price', 'mean_units_sold_per_product'),\n",
       " ('price', 'rating_employee'),\n",
       " ('price', 'merchant_ratings_count'),\n",
       " ('price', 'mean_product_prices'),\n",
       " ('price', 'mean_retail_prices'),\n",
       " ('price', 'mean_product_ratings_count'),\n",
       " ('price', 'discount_percentage'),\n",
       " ('price', 'rating_four_count'),\n",
       " ('price', 'rating_three_count'),\n",
       " ('price', 'rating_two_count'),\n",
       " ('price', 'rating_one_count'),\n",
       " ('price', 'rating_five_count'),\n",
       " ('retail_price', 'units_sold'),\n",
       " ('retail_price', 'rating_sold'),\n",
       " ('retail_price', 'rating_count'),\n",
       " ('retail_price', 'shipping_option_price'),\n",
       " ('retail_price', 'countries_shipped_to'),\n",
       " ('retail_price', 'inventory_total'),\n",
       " ('retail_price', 'merchant_rating_count'),\n",
       " ('retail_price', 'listed_products'),\n",
       " ('retail_price', 'total_units_sold'),\n",
       " ('retail_price', 'mean_units_sold_per_product'),\n",
       " ('retail_price', 'rating_employee'),\n",
       " ('retail_price', 'merchant_ratings_count'),\n",
       " ('retail_price', 'mean_product_prices'),\n",
       " ('retail_price', 'mean_retail_prices'),\n",
       " ('retail_price', 'mean_product_ratings_count'),\n",
       " ('retail_price', 'discount_percentage'),\n",
       " ('retail_price', 'rating_four_count'),\n",
       " ('retail_price', 'rating_three_count'),\n",
       " ('retail_price', 'rating_two_count'),\n",
       " ('retail_price', 'rating_one_count'),\n",
       " ('retail_price', 'rating_five_count'),\n",
       " ('units_sold', 'rating_sold'),\n",
       " ('units_sold', 'rating_count'),\n",
       " ('units_sold', 'shipping_option_price'),\n",
       " ('units_sold', 'countries_shipped_to'),\n",
       " ('units_sold', 'inventory_total'),\n",
       " ('units_sold', 'merchant_rating_count'),\n",
       " ('units_sold', 'listed_products'),\n",
       " ('units_sold', 'total_units_sold'),\n",
       " ('units_sold', 'mean_units_sold_per_product'),\n",
       " ('units_sold', 'rating_employee'),\n",
       " ('units_sold', 'merchant_ratings_count'),\n",
       " ('units_sold', 'mean_product_prices'),\n",
       " ('units_sold', 'mean_retail_prices'),\n",
       " ('units_sold', 'mean_product_ratings_count'),\n",
       " ('units_sold', 'discount_percentage'),\n",
       " ('units_sold', 'rating_four_count'),\n",
       " ('units_sold', 'rating_three_count'),\n",
       " ('units_sold', 'rating_two_count'),\n",
       " ('units_sold', 'rating_one_count'),\n",
       " ('units_sold', 'rating_five_count'),\n",
       " ('rating_sold', 'rating_count'),\n",
       " ('rating_sold', 'shipping_option_price'),\n",
       " ('rating_sold', 'countries_shipped_to'),\n",
       " ('rating_sold', 'inventory_total'),\n",
       " ('rating_sold', 'merchant_rating_count'),\n",
       " ('rating_sold', 'listed_products'),\n",
       " ('rating_sold', 'total_units_sold'),\n",
       " ('rating_sold', 'mean_units_sold_per_product'),\n",
       " ('rating_sold', 'rating_employee'),\n",
       " ('rating_sold', 'merchant_ratings_count'),\n",
       " ('rating_sold', 'mean_product_prices'),\n",
       " ('rating_sold', 'mean_retail_prices'),\n",
       " ('rating_sold', 'mean_product_ratings_count'),\n",
       " ('rating_sold', 'discount_percentage'),\n",
       " ('rating_sold', 'rating_four_count'),\n",
       " ('rating_sold', 'rating_three_count'),\n",
       " ('rating_sold', 'rating_two_count'),\n",
       " ('rating_sold', 'rating_one_count'),\n",
       " ('rating_sold', 'rating_five_count'),\n",
       " ('rating_count', 'shipping_option_price'),\n",
       " ('rating_count', 'countries_shipped_to'),\n",
       " ('rating_count', 'inventory_total'),\n",
       " ('rating_count', 'merchant_rating_count'),\n",
       " ('rating_count', 'listed_products'),\n",
       " ('rating_count', 'total_units_sold'),\n",
       " ('rating_count', 'mean_units_sold_per_product'),\n",
       " ('rating_count', 'rating_employee'),\n",
       " ('rating_count', 'merchant_ratings_count'),\n",
       " ('rating_count', 'mean_product_prices'),\n",
       " ('rating_count', 'mean_retail_prices'),\n",
       " ('rating_count', 'mean_product_ratings_count'),\n",
       " ('rating_count', 'discount_percentage'),\n",
       " ('rating_count', 'rating_four_count'),\n",
       " ('rating_count', 'rating_three_count'),\n",
       " ('rating_count', 'rating_two_count'),\n",
       " ('rating_count', 'rating_one_count'),\n",
       " ('rating_count', 'rating_five_count'),\n",
       " ('shipping_option_price', 'countries_shipped_to'),\n",
       " ('shipping_option_price', 'inventory_total'),\n",
       " ('shipping_option_price', 'merchant_rating_count'),\n",
       " ('shipping_option_price', 'listed_products'),\n",
       " ('shipping_option_price', 'total_units_sold'),\n",
       " ('shipping_option_price', 'mean_units_sold_per_product'),\n",
       " ('shipping_option_price', 'rating_employee'),\n",
       " ('shipping_option_price', 'merchant_ratings_count'),\n",
       " ('shipping_option_price', 'mean_product_prices'),\n",
       " ('shipping_option_price', 'mean_retail_prices'),\n",
       " ('shipping_option_price', 'mean_product_ratings_count'),\n",
       " ('shipping_option_price', 'discount_percentage'),\n",
       " ('shipping_option_price', 'rating_four_count'),\n",
       " ('shipping_option_price', 'rating_three_count'),\n",
       " ('shipping_option_price', 'rating_two_count'),\n",
       " ('shipping_option_price', 'rating_one_count'),\n",
       " ('shipping_option_price', 'rating_five_count'),\n",
       " ('countries_shipped_to', 'inventory_total'),\n",
       " ('countries_shipped_to', 'merchant_rating_count'),\n",
       " ('countries_shipped_to', 'listed_products'),\n",
       " ('countries_shipped_to', 'total_units_sold'),\n",
       " ('countries_shipped_to', 'mean_units_sold_per_product'),\n",
       " ('countries_shipped_to', 'rating_employee'),\n",
       " ('countries_shipped_to', 'merchant_ratings_count'),\n",
       " ('countries_shipped_to', 'mean_product_prices'),\n",
       " ('countries_shipped_to', 'mean_retail_prices'),\n",
       " ('countries_shipped_to', 'mean_product_ratings_count'),\n",
       " ('countries_shipped_to', 'discount_percentage'),\n",
       " ('countries_shipped_to', 'rating_four_count'),\n",
       " ('countries_shipped_to', 'rating_three_count'),\n",
       " ('countries_shipped_to', 'rating_two_count'),\n",
       " ('countries_shipped_to', 'rating_one_count'),\n",
       " ('countries_shipped_to', 'rating_five_count'),\n",
       " ('inventory_total', 'merchant_rating_count'),\n",
       " ('inventory_total', 'listed_products'),\n",
       " ('inventory_total', 'total_units_sold'),\n",
       " ('inventory_total', 'mean_units_sold_per_product'),\n",
       " ('inventory_total', 'rating_employee'),\n",
       " ('inventory_total', 'merchant_ratings_count'),\n",
       " ('inventory_total', 'mean_product_prices'),\n",
       " ('inventory_total', 'mean_retail_prices'),\n",
       " ('inventory_total', 'mean_product_ratings_count'),\n",
       " ('inventory_total', 'discount_percentage'),\n",
       " ('inventory_total', 'rating_four_count'),\n",
       " ('inventory_total', 'rating_three_count'),\n",
       " ('inventory_total', 'rating_two_count'),\n",
       " ('inventory_total', 'rating_one_count'),\n",
       " ('inventory_total', 'rating_five_count'),\n",
       " ('merchant_rating_count', 'listed_products'),\n",
       " ('merchant_rating_count', 'total_units_sold'),\n",
       " ('merchant_rating_count', 'mean_units_sold_per_product'),\n",
       " ('merchant_rating_count', 'rating_employee'),\n",
       " ('merchant_rating_count', 'merchant_ratings_count'),\n",
       " ('merchant_rating_count', 'mean_product_prices'),\n",
       " ('merchant_rating_count', 'mean_retail_prices'),\n",
       " ('merchant_rating_count', 'mean_product_ratings_count'),\n",
       " ('merchant_rating_count', 'discount_percentage'),\n",
       " ('merchant_rating_count', 'rating_four_count'),\n",
       " ('merchant_rating_count', 'rating_three_count'),\n",
       " ('merchant_rating_count', 'rating_two_count'),\n",
       " ('merchant_rating_count', 'rating_one_count'),\n",
       " ('merchant_rating_count', 'rating_five_count'),\n",
       " ('listed_products', 'total_units_sold'),\n",
       " ('listed_products', 'mean_units_sold_per_product'),\n",
       " ('listed_products', 'rating_employee'),\n",
       " ('listed_products', 'merchant_ratings_count'),\n",
       " ('listed_products', 'mean_product_prices'),\n",
       " ('listed_products', 'mean_retail_prices'),\n",
       " ('listed_products', 'mean_product_ratings_count'),\n",
       " ('listed_products', 'discount_percentage'),\n",
       " ('listed_products', 'rating_four_count'),\n",
       " ('listed_products', 'rating_three_count'),\n",
       " ('listed_products', 'rating_two_count'),\n",
       " ('listed_products', 'rating_one_count'),\n",
       " ('listed_products', 'rating_five_count'),\n",
       " ('total_units_sold', 'mean_units_sold_per_product'),\n",
       " ('total_units_sold', 'rating_employee'),\n",
       " ('total_units_sold', 'merchant_ratings_count'),\n",
       " ('total_units_sold', 'mean_product_prices'),\n",
       " ('total_units_sold', 'mean_retail_prices'),\n",
       " ('total_units_sold', 'mean_product_ratings_count'),\n",
       " ('total_units_sold', 'discount_percentage'),\n",
       " ('total_units_sold', 'rating_four_count'),\n",
       " ('total_units_sold', 'rating_three_count'),\n",
       " ('total_units_sold', 'rating_two_count'),\n",
       " ('total_units_sold', 'rating_one_count'),\n",
       " ('total_units_sold', 'rating_five_count'),\n",
       " ('mean_units_sold_per_product', 'rating_employee'),\n",
       " ('mean_units_sold_per_product', 'merchant_ratings_count'),\n",
       " ('mean_units_sold_per_product', 'mean_product_prices'),\n",
       " ('mean_units_sold_per_product', 'mean_retail_prices'),\n",
       " ('mean_units_sold_per_product', 'mean_product_ratings_count'),\n",
       " ('mean_units_sold_per_product', 'discount_percentage'),\n",
       " ('mean_units_sold_per_product', 'rating_four_count'),\n",
       " ('mean_units_sold_per_product', 'rating_three_count'),\n",
       " ('mean_units_sold_per_product', 'rating_two_count'),\n",
       " ('mean_units_sold_per_product', 'rating_one_count'),\n",
       " ('mean_units_sold_per_product', 'rating_five_count'),\n",
       " ('rating_employee', 'merchant_ratings_count'),\n",
       " ('rating_employee', 'mean_product_prices'),\n",
       " ('rating_employee', 'mean_retail_prices'),\n",
       " ('rating_employee', 'mean_product_ratings_count'),\n",
       " ('rating_employee', 'discount_percentage'),\n",
       " ('rating_employee', 'rating_four_count'),\n",
       " ('rating_employee', 'rating_three_count'),\n",
       " ('rating_employee', 'rating_two_count'),\n",
       " ('rating_employee', 'rating_one_count'),\n",
       " ('rating_employee', 'rating_five_count'),\n",
       " ('merchant_ratings_count', 'mean_product_prices'),\n",
       " ('merchant_ratings_count', 'mean_retail_prices'),\n",
       " ('merchant_ratings_count', 'mean_product_ratings_count'),\n",
       " ('merchant_ratings_count', 'discount_percentage'),\n",
       " ('merchant_ratings_count', 'rating_four_count'),\n",
       " ('merchant_ratings_count', 'rating_three_count'),\n",
       " ('merchant_ratings_count', 'rating_two_count'),\n",
       " ('merchant_ratings_count', 'rating_one_count'),\n",
       " ('merchant_ratings_count', 'rating_five_count'),\n",
       " ('mean_product_prices', 'mean_retail_prices'),\n",
       " ('mean_product_prices', 'mean_product_ratings_count'),\n",
       " ('mean_product_prices', 'discount_percentage'),\n",
       " ('mean_product_prices', 'rating_four_count'),\n",
       " ('mean_product_prices', 'rating_three_count'),\n",
       " ('mean_product_prices', 'rating_two_count'),\n",
       " ('mean_product_prices', 'rating_one_count'),\n",
       " ('mean_product_prices', 'rating_five_count'),\n",
       " ('mean_retail_prices', 'mean_product_ratings_count'),\n",
       " ('mean_retail_prices', 'discount_percentage'),\n",
       " ('mean_retail_prices', 'rating_four_count'),\n",
       " ('mean_retail_prices', 'rating_three_count'),\n",
       " ('mean_retail_prices', 'rating_two_count'),\n",
       " ('mean_retail_prices', 'rating_one_count'),\n",
       " ('mean_retail_prices', 'rating_five_count'),\n",
       " ('mean_product_ratings_count', 'discount_percentage'),\n",
       " ('mean_product_ratings_count', 'rating_four_count'),\n",
       " ('mean_product_ratings_count', 'rating_three_count'),\n",
       " ('mean_product_ratings_count', 'rating_two_count'),\n",
       " ('mean_product_ratings_count', 'rating_one_count'),\n",
       " ('mean_product_ratings_count', 'rating_five_count'),\n",
       " ('discount_percentage', 'rating_four_count'),\n",
       " ('discount_percentage', 'rating_three_count'),\n",
       " ('discount_percentage', 'rating_two_count'),\n",
       " ('discount_percentage', 'rating_one_count'),\n",
       " ('discount_percentage', 'rating_five_count'),\n",
       " ('rating_four_count', 'rating_three_count'),\n",
       " ('rating_four_count', 'rating_two_count'),\n",
       " ('rating_four_count', 'rating_one_count'),\n",
       " ('rating_four_count', 'rating_five_count'),\n",
       " ('rating_three_count', 'rating_two_count'),\n",
       " ('rating_three_count', 'rating_one_count'),\n",
       " ('rating_three_count', 'rating_five_count'),\n",
       " ('rating_two_count', 'rating_one_count'),\n",
       " ('rating_two_count', 'rating_five_count'),\n",
       " ('rating_one_count', 'rating_five_count')]"
      ]
     },
     "execution_count": 55,
     "metadata": {},
     "output_type": "execute_result"
    }
   ],
   "source": [
    "from itertools import combinations\n",
    "\n",
    "numericas = df.select_dtypes(include=np.number)\n",
    "numericas_comb = list(combinations(numericas, 2))\n",
    "numericas_comb"
   ]
  },
  {
   "cell_type": "code",
   "execution_count": 56,
   "id": "d7c1aa11",
   "metadata": {},
   "outputs": [
    {
     "data": {
      "text/plain": [
       "[('price', 'retail_price'),\n",
       " ('price', 'units_sold'),\n",
       " ('price', 'rating_sold'),\n",
       " ('price', 'rating_count'),\n",
       " ('retail_price', 'units_sold'),\n",
       " ('retail_price', 'rating_sold'),\n",
       " ('retail_price', 'rating_count'),\n",
       " ('units_sold', 'rating_sold'),\n",
       " ('units_sold', 'rating_count'),\n",
       " ('rating_sold', 'rating_count')]"
      ]
     },
     "execution_count": 56,
     "metadata": {},
     "output_type": "execute_result"
    }
   ],
   "source": [
    "variables = df[[\"price\", \"retail_price\", \"units_sold\", \"rating_sold\", \"rating_count\"]]\n",
    "numericas_comb = list(combinations(variables, 2))\n",
    "numericas_comb"
   ]
  },
  {
   "cell_type": "code",
   "execution_count": 57,
   "id": "3dcb0184",
   "metadata": {},
   "outputs": [
    {
     "data": {
      "text/html": [
       "<div>\n",
       "<style scoped>\n",
       "    .dataframe tbody tr th:only-of-type {\n",
       "        vertical-align: middle;\n",
       "    }\n",
       "\n",
       "    .dataframe tbody tr th {\n",
       "        vertical-align: top;\n",
       "    }\n",
       "\n",
       "    .dataframe thead th {\n",
       "        text-align: right;\n",
       "    }\n",
       "</style>\n",
       "<table border=\"1\" class=\"dataframe\">\n",
       "  <thead>\n",
       "    <tr style=\"text-align: right;\">\n",
       "      <th></th>\n",
       "      <th>price</th>\n",
       "      <th>retail_price</th>\n",
       "      <th>units_sold</th>\n",
       "      <th>rating_sold</th>\n",
       "      <th>rating_count</th>\n",
       "    </tr>\n",
       "  </thead>\n",
       "  <tbody>\n",
       "    <tr>\n",
       "      <th>price</th>\n",
       "      <td>1.000000</td>\n",
       "      <td>0.304748</td>\n",
       "      <td>-0.024815</td>\n",
       "      <td>0.053469</td>\n",
       "      <td>-0.001911</td>\n",
       "    </tr>\n",
       "    <tr>\n",
       "      <th>retail_price</th>\n",
       "      <td>0.304748</td>\n",
       "      <td>1.000000</td>\n",
       "      <td>0.012638</td>\n",
       "      <td>0.024106</td>\n",
       "      <td>0.053872</td>\n",
       "    </tr>\n",
       "    <tr>\n",
       "      <th>units_sold</th>\n",
       "      <td>-0.024815</td>\n",
       "      <td>0.012638</td>\n",
       "      <td>1.000000</td>\n",
       "      <td>0.039478</td>\n",
       "      <td>0.899464</td>\n",
       "    </tr>\n",
       "    <tr>\n",
       "      <th>rating_sold</th>\n",
       "      <td>0.053469</td>\n",
       "      <td>0.024106</td>\n",
       "      <td>0.039478</td>\n",
       "      <td>1.000000</td>\n",
       "      <td>0.054112</td>\n",
       "    </tr>\n",
       "    <tr>\n",
       "      <th>rating_count</th>\n",
       "      <td>-0.001911</td>\n",
       "      <td>0.053872</td>\n",
       "      <td>0.899464</td>\n",
       "      <td>0.054112</td>\n",
       "      <td>1.000000</td>\n",
       "    </tr>\n",
       "  </tbody>\n",
       "</table>\n",
       "</div>"
      ],
      "text/plain": [
       "                 price  retail_price  units_sold  rating_sold  rating_count\n",
       "price         1.000000      0.304748   -0.024815     0.053469     -0.001911\n",
       "retail_price  0.304748      1.000000    0.012638     0.024106      0.053872\n",
       "units_sold   -0.024815      0.012638    1.000000     0.039478      0.899464\n",
       "rating_sold   0.053469      0.024106    0.039478     1.000000      0.054112\n",
       "rating_count -0.001911      0.053872    0.899464     0.054112      1.000000"
      ]
     },
     "execution_count": 57,
     "metadata": {},
     "output_type": "execute_result"
    }
   ],
   "source": [
    "matrix = variables.corr()\n",
    "matrix"
   ]
  },
  {
   "cell_type": "code",
   "execution_count": 58,
   "id": "1d5805c4",
   "metadata": {},
   "outputs": [],
   "source": [
    "mascara = np.triu(np.ones_like(matrix, dtype=bool))"
   ]
  },
  {
   "cell_type": "code",
   "execution_count": 59,
   "id": "50efbd40",
   "metadata": {},
   "outputs": [
    {
     "data": {
      "image/png": "[encoded data removed]",
      "text/plain": [
       "<Figure size 2000x1000 with 2 Axes>"
      ]
     },
     "metadata": {},
     "output_type": "display_data"
    }
   ],
   "source": [
    "pltt.figure(figsize=(20,10))\n",
    "sns.heatmap(matrix, annot=True, fmt='.2f', cmap= 'mako', vmin=-1, vmax='1', mask = mascara);"
   ]
  },
  {
   "cell_type": "markdown",
   "id": "abac4fc7",
   "metadata": {},
   "source": [
    "entre rating_count y units_sold hay una mayor correlación de tipo positiva.\n",
    "única correlación negativa entre units-sold y price, pero es 0.\n",
    "correlación leve entre retail_price y price"
   ]
  },
  {
   "cell_type": "markdown",
   "id": "29acd47c",
   "metadata": {},
   "source": [
    "EJERCICIO 3"
   ]
  },
  {
   "cell_type": "markdown",
   "id": "b7a576a8",
   "metadata": {},
   "source": [
    "Utiliza una tabla de contingencia para analizar la relación entre las variables categóricas uses_ad_boosts y badge_product_quality. ¿Cómo afecta la calidad del producto al uso de anuncios promocionales? Proporciona interpretaciones basadas en la tabla de contingencia."
   ]
  },
  {
   "cell_type": "code",
   "execution_count": 60,
   "id": "698ad7bc",
   "metadata": {},
   "outputs": [
    {
     "data": {
      "text/html": [
       "<div>\n",
       "<style scoped>\n",
       "    .dataframe tbody tr th:only-of-type {\n",
       "        vertical-align: middle;\n",
       "    }\n",
       "\n",
       "    .dataframe tbody tr th {\n",
       "        vertical-align: top;\n",
       "    }\n",
       "\n",
       "    .dataframe thead th {\n",
       "        text-align: right;\n",
       "    }\n",
       "</style>\n",
       "<table border=\"1\" class=\"dataframe\">\n",
       "  <thead>\n",
       "    <tr style=\"text-align: right;\">\n",
       "      <th>badge_product_quality</th>\n",
       "      <th>Buena</th>\n",
       "      <th>Excelente</th>\n",
       "    </tr>\n",
       "    <tr>\n",
       "      <th>uses_ad_boosts</th>\n",
       "      <th></th>\n",
       "      <th></th>\n",
       "    </tr>\n",
       "  </thead>\n",
       "  <tbody>\n",
       "    <tr>\n",
       "      <th>No</th>\n",
       "      <td>826</td>\n",
       "      <td>66</td>\n",
       "    </tr>\n",
       "    <tr>\n",
       "      <th>Si</th>\n",
       "      <td>630</td>\n",
       "      <td>51</td>\n",
       "    </tr>\n",
       "  </tbody>\n",
       "</table>\n",
       "</div>"
      ],
      "text/plain": [
       "badge_product_quality  Buena  Excelente\n",
       "uses_ad_boosts                         \n",
       "No                       826         66\n",
       "Si                       630         51"
      ]
     },
     "execution_count": 60,
     "metadata": {},
     "output_type": "execute_result"
    }
   ],
   "source": [
    "pd.crosstab(df['uses_ad_boosts'], df['badge_product_quality'])"
   ]
  },
  {
   "cell_type": "code",
   "execution_count": 61,
   "id": "8c09d032",
   "metadata": {},
   "outputs": [
    {
     "data": {
      "text/html": [
       "<div>\n",
       "<style scoped>\n",
       "    .dataframe tbody tr th:only-of-type {\n",
       "        vertical-align: middle;\n",
       "    }\n",
       "\n",
       "    .dataframe tbody tr th {\n",
       "        vertical-align: top;\n",
       "    }\n",
       "\n",
       "    .dataframe thead th {\n",
       "        text-align: right;\n",
       "    }\n",
       "</style>\n",
       "<table border=\"1\" class=\"dataframe\">\n",
       "  <thead>\n",
       "    <tr style=\"text-align: right;\">\n",
       "      <th>badge_product_quality</th>\n",
       "      <th>Buena</th>\n",
       "      <th>Excelente</th>\n",
       "    </tr>\n",
       "    <tr>\n",
       "      <th>uses_ad_boosts</th>\n",
       "      <th></th>\n",
       "      <th></th>\n",
       "    </tr>\n",
       "  </thead>\n",
       "  <tbody>\n",
       "    <tr>\n",
       "      <th>No</th>\n",
       "      <td>52.511125</td>\n",
       "      <td>4.195804</td>\n",
       "    </tr>\n",
       "    <tr>\n",
       "      <th>Si</th>\n",
       "      <td>40.050858</td>\n",
       "      <td>3.242212</td>\n",
       "    </tr>\n",
       "  </tbody>\n",
       "</table>\n",
       "</div>"
      ],
      "text/plain": [
       "badge_product_quality      Buena  Excelente\n",
       "uses_ad_boosts                             \n",
       "No                     52.511125   4.195804\n",
       "Si                     40.050858   3.242212"
      ]
     },
     "execution_count": 61,
     "metadata": {},
     "output_type": "execute_result"
    }
   ],
   "source": [
    "pd.crosstab(df['uses_ad_boosts'], df['badge_product_quality'], normalize=True)*100"
   ]
  },
  {
   "cell_type": "code",
   "execution_count": 62,
   "id": "88c485c6",
   "metadata": {},
   "outputs": [
    {
     "name": "stdout",
     "output_type": "stream",
     "text": [
      "<class 'pandas.core.series.Series'>\n",
      "RangeIndex: 1573 entries, 0 to 1572\n",
      "Series name: badge_product_quality\n",
      "Non-Null Count  Dtype \n",
      "--------------  ----- \n",
      "1573 non-null   object\n",
      "dtypes: object(1)\n",
      "memory usage: 12.4+ KB\n"
     ]
    }
   ],
   "source": [
    "df[\"badge_product_quality\"].info()"
   ]
  },
  {
   "cell_type": "code",
   "execution_count": 63,
   "id": "6ba9e5c4",
   "metadata": {},
   "outputs": [
    {
     "data": {
      "text/plain": [
       "badge_product_quality\n",
       "Buena        1456\n",
       "Excelente     117\n",
       "Name: count, dtype: int64"
      ]
     },
     "execution_count": 63,
     "metadata": {},
     "output_type": "execute_result"
    }
   ],
   "source": [
    "df[\"badge_product_quality\"].value_counts()"
   ]
  },
  {
   "cell_type": "markdown",
   "id": "45d817fd",
   "metadata": {},
   "source": [
    "EJERCICIO 4"
   ]
  },
  {
   "cell_type": "markdown",
   "id": "4c95b0b8",
   "metadata": {},
   "source": [
    "Crea una tabla de contingencia que examine la relación entre las variables categóricas badge_local_product y badge_fast_shipping. ¿Hay alguna tendencia en la que los productos locales estén más asociados con envíos rápidos? Explícalo."
   ]
  },
  {
   "cell_type": "code",
   "execution_count": 64,
   "id": "2bd616b9",
   "metadata": {},
   "outputs": [
    {
     "data": {
      "text/html": [
       "<div>\n",
       "<style scoped>\n",
       "    .dataframe tbody tr th:only-of-type {\n",
       "        vertical-align: middle;\n",
       "    }\n",
       "\n",
       "    .dataframe tbody tr th {\n",
       "        vertical-align: top;\n",
       "    }\n",
       "\n",
       "    .dataframe thead th {\n",
       "        text-align: right;\n",
       "    }\n",
       "</style>\n",
       "<table border=\"1\" class=\"dataframe\">\n",
       "  <thead>\n",
       "    <tr style=\"text-align: right;\">\n",
       "      <th>badge_fast_shipping</th>\n",
       "      <th>No</th>\n",
       "      <th>Si</th>\n",
       "    </tr>\n",
       "    <tr>\n",
       "      <th>badge_local_product</th>\n",
       "      <th></th>\n",
       "      <th></th>\n",
       "    </tr>\n",
       "  </thead>\n",
       "  <tbody>\n",
       "    <tr>\n",
       "      <th>No</th>\n",
       "      <td>1533</td>\n",
       "      <td>11</td>\n",
       "    </tr>\n",
       "    <tr>\n",
       "      <th>Si</th>\n",
       "      <td>20</td>\n",
       "      <td>9</td>\n",
       "    </tr>\n",
       "  </tbody>\n",
       "</table>\n",
       "</div>"
      ],
      "text/plain": [
       "badge_fast_shipping    No  Si\n",
       "badge_local_product          \n",
       "No                   1533  11\n",
       "Si                     20   9"
      ]
     },
     "execution_count": 64,
     "metadata": {},
     "output_type": "execute_result"
    }
   ],
   "source": [
    "pd.crosstab(df['badge_local_product'], df['badge_fast_shipping'])"
   ]
  },
  {
   "cell_type": "code",
   "execution_count": 65,
   "id": "be2e3034",
   "metadata": {},
   "outputs": [
    {
     "data": {
      "text/html": [
       "<div>\n",
       "<style scoped>\n",
       "    .dataframe tbody tr th:only-of-type {\n",
       "        vertical-align: middle;\n",
       "    }\n",
       "\n",
       "    .dataframe tbody tr th {\n",
       "        vertical-align: top;\n",
       "    }\n",
       "\n",
       "    .dataframe thead th {\n",
       "        text-align: right;\n",
       "    }\n",
       "</style>\n",
       "<table border=\"1\" class=\"dataframe\">\n",
       "  <thead>\n",
       "    <tr style=\"text-align: right;\">\n",
       "      <th>badge_fast_shipping</th>\n",
       "      <th>No</th>\n",
       "      <th>Si</th>\n",
       "    </tr>\n",
       "    <tr>\n",
       "      <th>badge_local_product</th>\n",
       "      <th></th>\n",
       "      <th></th>\n",
       "    </tr>\n",
       "  </thead>\n",
       "  <tbody>\n",
       "    <tr>\n",
       "      <th>No</th>\n",
       "      <td>97.457088</td>\n",
       "      <td>0.699301</td>\n",
       "    </tr>\n",
       "    <tr>\n",
       "      <th>Si</th>\n",
       "      <td>1.271456</td>\n",
       "      <td>0.572155</td>\n",
       "    </tr>\n",
       "  </tbody>\n",
       "</table>\n",
       "</div>"
      ],
      "text/plain": [
       "badge_fast_shipping         No        Si\n",
       "badge_local_product                     \n",
       "No                   97.457088  0.699301\n",
       "Si                    1.271456  0.572155"
      ]
     },
     "execution_count": 65,
     "metadata": {},
     "output_type": "execute_result"
    }
   ],
   "source": [
    "pd.crosstab(df['badge_local_product'], df['badge_fast_shipping'], normalize=True)*100"
   ]
  },
  {
   "cell_type": "markdown",
   "id": "ca9489c8",
   "metadata": {},
   "source": [
    "No, no hay relación entre las variables porque los productos que no tienen etiqueta local no suelen tener la etiqueta de fast shipping, y el fast shipping casi no se pide."
   ]
  },
  {
   "cell_type": "markdown",
   "id": "2815aad0",
   "metadata": {},
   "source": [
    "EJERCICIO 5"
   ]
  },
  {
   "cell_type": "markdown",
   "id": "bc63b153",
   "metadata": {},
   "source": [
    "Calcula la media y la mediana de la variable mean_product_prices. ¿Cómo se comparan estas medidas? ¿Qué puedes inferir sobre la distribución de los precios promedio de los productos?"
   ]
  },
  {
   "cell_type": "code",
   "execution_count": 66,
   "id": "5d03ba0c",
   "metadata": {},
   "outputs": [
    {
     "data": {
      "text/plain": [
       "8.33"
      ]
     },
     "execution_count": 66,
     "metadata": {},
     "output_type": "execute_result"
    }
   ],
   "source": [
    "media_mean_product_prices = round(df['mean_product_prices'].mean(),2)\n",
    "media_mean_product_prices"
   ]
  },
  {
   "cell_type": "code",
   "execution_count": 67,
   "id": "d7c4c8fb",
   "metadata": {},
   "outputs": [
    {
     "data": {
      "text/plain": [
       "8.0"
      ]
     },
     "execution_count": 67,
     "metadata": {},
     "output_type": "execute_result"
    }
   ],
   "source": [
    "mediana_mean_product_prices = round(df['mean_product_prices'].median(),2)\n",
    "mediana_mean_product_prices"
   ]
  },
  {
   "cell_type": "code",
   "execution_count": 68,
   "id": "9eec3a42",
   "metadata": {},
   "outputs": [
    {
     "data": {
      "image/png": "[encoded data removed]",
      "text/plain": [
       "<Figure size 640x480 with 1 Axes>"
      ]
     },
     "metadata": {},
     "output_type": "display_data"
    }
   ],
   "source": [
    "sns.histplot(data=df, x = 'price', bins = 15, kde=True, color='red', stat='count', alpha = 0.3);\n",
    "pltt.ylim(0,700);"
   ]
  },
  {
   "cell_type": "code",
   "execution_count": 69,
   "id": "a79ad941",
   "metadata": {},
   "outputs": [
    {
     "data": {
      "image/png": "[encoded data removed]",
      "text/plain": [
       "<Figure size 640x480 with 1 Axes>"
      ]
     },
     "metadata": {},
     "output_type": "display_data"
    }
   ],
   "source": [
    "sns.histplot(data=df, x = 'mean_product_prices', bins = 15, kde=True, color='red', stat='count', alpha = 0.3);\n",
    "pltt.ylim(0,700);"
   ]
  },
  {
   "cell_type": "code",
   "execution_count": 70,
   "id": "8870426c",
   "metadata": {},
   "outputs": [
    {
     "data": {
      "image/png": "[encoded data removed]",
      "text/plain": [
       "<Figure size 640x480 with 1 Axes>"
      ]
     },
     "metadata": {},
     "output_type": "display_data"
    }
   ],
   "source": [
    "sns.histplot(data=df, x = 'price');"
   ]
  },
  {
   "cell_type": "code",
   "execution_count": 71,
   "id": "74576286",
   "metadata": {},
   "outputs": [
    {
     "data": {
      "image/png": "[encoded data removed]",
      "text/plain": [
       "<Figure size 640x480 with 1 Axes>"
      ]
     },
     "metadata": {},
     "output_type": "display_data"
    }
   ],
   "source": [
    "sns.histplot(data=df, x = 'mean_product_prices');"
   ]
  },
  {
   "cell_type": "code",
   "execution_count": 72,
   "id": "82ad1e2a",
   "metadata": {},
   "outputs": [
    {
     "data": {
      "text/plain": [
       "mean_product_prices\n",
       "8.00     197\n",
       "11.00    115\n",
       "7.00      93\n",
       "9.00      84\n",
       "6.00      76\n",
       "        ... \n",
       "1.68       1\n",
       "3.93       1\n",
       "4.68       1\n",
       "3.84       1\n",
       "27.00      1\n",
       "Name: count, Length: 193, dtype: int64"
      ]
     },
     "execution_count": 72,
     "metadata": {},
     "output_type": "execute_result"
    }
   ],
   "source": [
    "df[\"mean_product_prices\"].value_counts()"
   ]
  },
  {
   "cell_type": "code",
   "execution_count": 73,
   "id": "cc9ff674",
   "metadata": {},
   "outputs": [
    {
     "data": {
      "text/plain": [
       "price\n",
       "8.00     282\n",
       "11.00    202\n",
       "7.00     129\n",
       "9.00     126\n",
       "6.00     120\n",
       "        ... \n",
       "4.74       1\n",
       "2.83       1\n",
       "2.76       1\n",
       "4.73       1\n",
       "27.00      1\n",
       "Name: count, Length: 127, dtype: int64"
      ]
     },
     "execution_count": 73,
     "metadata": {},
     "output_type": "execute_result"
    }
   ],
   "source": [
    "df[\"price\"].value_counts()"
   ]
  },
  {
   "cell_type": "markdown",
   "id": "81ef57a9",
   "metadata": {},
   "source": [
    "Igual que en la variable, price, la media y la mediana son my similares. El promedio del precio de los productos no es demasiado alto, va aprox. de 5 a 10."
   ]
  },
  {
   "cell_type": "markdown",
   "id": "5143f44e",
   "metadata": {},
   "source": [
    "EJERCICIO 6"
   ]
  },
  {
   "cell_type": "markdown",
   "id": "aca09536",
   "metadata": {},
   "source": [
    "Realiza un análisis de correlación entre total_units_sold y mean_product_ratings_count. ¿Existe una relación entre la cantidad total de unidades vendidas y la calificación promedio de los productos? Explica los resultados."
   ]
  }
 ],
 "metadata": {
  "kernelspec": {
   "display_name": "base",
   "language": "python",
   "name": "python3"
  },
  "language_info": {
   "codemirror_mode": {
    "name": "ipython",
    "version": 3
   },
   "file_extension": ".py",
   "mimetype": "text/x-python",
   "name": "python",
   "nbconvert_exporter": "python",
   "pygments_lexer": "ipython3",
   "version": "3.12.9"
  }
 },
 "nbformat": 4,
 "nbformat_minor": 5
}
